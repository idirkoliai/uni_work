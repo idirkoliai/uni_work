{
 "cells": [
  {
   "cell_type": "markdown",
   "metadata": {},
   "source": [
    "# TP noté L3 Algorithmique des graphes 2022-2023\n",
    "# Durée 2 heures\n",
    "\n",
    "## Vous disposez uniquement des documents suivants :\n",
    "- les transparents de cours en format pdf\n",
    "- les deux fichiers `dictionnaireadjacenceoriente.py` et `dictionnaireadjacenceorientepondere.py`\n",
    "- un accès à la documentation Python\n",
    "- ce sujet du TP noté sous forme de Notebook Python (extension `.ipynb`)\n",
    "\n",
    "Aucun autre document ou support n'est autorisé.\n",
    "\n",
    "## Mettez tous vos fichiers et ce Notebook Python dans le répertoire EXAM\n",
    "## Remplissez la première cellule avec vos noms et prénoms\n",
    "## Indiquez si vous avez un tiers temps. Si oui vous ne faites que les exercices 1, 2, et 4\n",
    "## Répondez aux question dans les cellules indiquées. \n",
    "\n",
    "Le code python devra utiliser les classes `DictionnaireAdjacenceOriente` et `DictionnaireAdjacenceOrientePondere`. \n",
    "\n",
    "<font color=red>**Attention :**</font> vous ne devez pas modifier les fichiers `dictionnaireadjacenceoriente.py` et `dictionnaireadjacenceorientepondere.py`, ils seront ré-initialisés lors de la correction, tout changement que vous y auriez apportés seront détruits. \n"
   ]
  },
  {
   "cell_type": "code",
   "execution_count": null,
   "metadata": {},
   "outputs": [],
   "source": [
    "Cadre pour la notation :\n",
    "Note =\n",
    "Exercice 1 = \n",
    "Exercice 2 =\n",
    "Exerice 3 =\n",
    "Exerice 4 ="
   ]
  },
  {
   "cell_type": "raw",
   "metadata": {},
   "source": [
    "Nom = \n",
    "Prenom = \n",
    "Tiers temps (oui/non) =\n",
    "Si oui vous ne faites que les exercices 1, 2 et 4."
   ]
  },
  {
   "cell_type": "markdown",
   "metadata": {},
   "source": [
    "## Exercice 1\n",
    "On considère le code ci-dessous qui permet de faire une exploration en profondeur récursive d'un graphe orienté G. Un sommet dont l'exploration n'a pas commencé est vert. Il devient rouge quand son exploration commence et noir quand elle se termine. La fonction exploration_profondeur(G) renvoie la liste resultat des sommets dans l'ordre d'une exploration en profondeur (début de la visite).\n",
    "\n",
    "Modifier le code pour que exploration_profondeur(G) renvoie maintenant un booléen qui est vrai si G a un cycle et faux sinon. On utilisera la détection d'un arc retour.\n",
    "\n",
    "Sur le graphe G de l'exemple on devra obtenir True"
   ]
  },
  {
   "cell_type": "code",
   "execution_count": 1,
   "metadata": {},
   "outputs": [
    {
     "name": "stdout",
     "output_type": "stream",
     "text": [
      "Graphe orienté avec 6 sommets : ['a', 'c', 'd', 'f', 'e', 'b']\n",
      "a ---> c\n",
      "a ---> d\n",
      "a ---> b\n",
      "c ---> e\n",
      "c ---> b\n",
      "e ---> a\n",
      "f ---> b\n",
      "f ---> a\n",
      "['a', 'c', 'e', 'b', 'd', 'f']\n"
     ]
    }
   ],
   "source": [
    "from dictionnaireadjacenceoriente import DictionnaireAdjacenceOriente\n",
    "\n",
    "def exploration_profondeur(G):\n",
    "    \"\"\" Exploration en profondeur d'un graphe orienté\n",
    "    \n",
    "    :param G: DictionnaireAdjacenceOriente, un graphe orienté\n",
    "    :return list, la liste des sommets de G dans l'ordre \n",
    "    d'une exploration en profondeur\n",
    "    \"\"\"\n",
    "    couleur = dict()\n",
    "    resultat = list()\n",
    "    for sommet in G.sommets():\n",
    "        couleur[sommet] = \"green\"\n",
    "    for sommet in G.sommets():\n",
    "        if couleur[sommet] == \"green\":\n",
    "            exploration_profondeur_rec(G, sommet, couleur, resultat)\n",
    "    return resultat\n",
    "\n",
    "def exploration_profondeur_rec(G, sommet, couleur, resultat):\n",
    "    \"\"\" Exploration en profondeur récursive d'un graphe orienté à partir d'un sommet\n",
    "     \n",
    "    :param G: DictionnaireAdjacenceOriente, un graphe orienté\n",
    "    :param sommet: type non mutable, sommet de G d'où part l'exploration\n",
    "    :param couleur: dict, un dictionnaire donnant la couleur d'un sommet. \n",
    "    Les clés sont les sommets, les valeurs sont les couleurs de type str\n",
    "    :param resultat: list, la liste des sommets de G resultat\n",
    "    :return None\n",
    "    \"\"\"\n",
    "    couleur[sommet] = \"red\"\n",
    "    resultat.append(sommet)\n",
    "    for successeur in G.successeurs(sommet):\n",
    "        if couleur[successeur] == \"green\":\n",
    "            exploration_profondeur_rec(G, successeur, couleur, resultat)\n",
    "    couleur[sommet] = \"black\"\n",
    "\n",
    "G = DictionnaireAdjacenceOriente()\n",
    "G.ajouter_sommets(['a', 'b', 'c', 'd', 'e', 'f'])\n",
    "G.ajouter_arcs([('f','a'), ('f', 'b'), ('a', 'b'), ('a', 'c'), ('a', 'd'), ('c', 'b'), ('c', 'e'), ('e', 'a')])\n",
    "print(G)\n",
    "print(exploration_profondeur(G))\n",
    "# devra donner True sur cet exemple\n",
    "    "
   ]
  },
  {
   "cell_type": "markdown",
   "metadata": {},
   "source": [
    "## Exercice 2\n",
    "Écrire le code de l'algorithme de Dijkstra qui calcule un plus court chemin d'une source à tous les sommets d'un graphe orienté pondéré. Le résultat sera un dictionnaire distances tel que distances[u] est le coût d'un plus court chemin de la source à u si un tel chemin existe et est None sinon. On utilisera la fonction extraire_sommet_le_plus_proche(S, distances) (écrite dessous) qui renvoie un sommet u pris dans un ensemble S tel que distances[u] est minimal et le retire de S, si un tel sommet existe, et renvoie None sinon. \n",
    "\n",
    "On supposera que les coûts sont tous positifs ou nuls.\n"
   ]
  },
  {
   "cell_type": "code",
   "execution_count": 4,
   "metadata": {},
   "outputs": [
    {
     "name": "stdout",
     "output_type": "stream",
     "text": [
      "Graphe orienté avec 5 sommets : [0, 1, 2, 3, 4]\n",
      "0 -[10]-> 4\n",
      "0 -[7]-> 1\n",
      "0 -[5]-> 3\n",
      "2 -[6]-> 1\n",
      "3 -[9]-> 2\n",
      "3 -[2]-> 4\n",
      "4 -[1]-> 2\n",
      "0 None None None None "
     ]
    }
   ],
   "source": [
    "from dictionnaireadjacenceorientepondere import DictionnaireAdjacenceOrientePondere\n",
    "\n",
    "def extraire_sommet_le_plus_proche(S, distances):\n",
    "    \"\"\" Extaction d'un sommet de S le plus proche pour distances\n",
    "     \n",
    "    :param S: set, un ensemble de sommets\n",
    "    :param distances: dict, un dictionnaire donnant la distance d'un sommet u \n",
    "    à une source fixée\n",
    "    :return sommet: non mutable, un sommet u pris dans S tel que distances[u] \n",
    "    est différent de None et est minimale si un tel sommet existe,\n",
    "    renvoie None sinon. Si le sommet existe, il est retiré de S.\n",
    "    \"\"\"\n",
    "    sommet = None\n",
    "    distance_min = None\n",
    "    for candidat in S:\n",
    "        if distances[candidat] != None:\n",
    "            if distance_min == None or distances[candidat] < distance_min:\n",
    "                sommet = candidat\n",
    "                distance_min = distances[candidat]\n",
    "    if sommet != None:\n",
    "        S.remove(sommet)\n",
    "    return sommet\n",
    "                \n",
    "def dijkstra(G, source): \n",
    "    \"\"\" Calcul des plus courts chemins à partir d'une source\n",
    "     \n",
    "    :param G: DictionnaireAdjacenceOrientePondere, un graphe orienté pondere\n",
    "    avec des poids positifs ou nuls\n",
    "    :param source: non mutable, un sommet de G\n",
    "    :return dict: un dictionnaire distances tel que distances[u] est \n",
    "    le coût d'un plus court chemin de source à u si un tel chemin existe et None sinon\n",
    "    \"\"\"\n",
    "    distances = dict()\n",
    "    for sommet in G.sommets():\n",
    "        distances[sommet] = None\n",
    "    distances[source] = 0\n",
    "    # à compléter\n",
    "    return distances\n",
    "\n",
    "\n",
    "G = DictionnaireAdjacenceOrientePondere()\n",
    "G.ajouter_sommets([0,1,2,3,4])\n",
    "G.ajouter_arcs([(0,1,7),(0,3,5),(0,4,10),(2,1,6),(3,2,9),(3,4,2),(4,2,1)])\n",
    "print(G)\n",
    "distances = dijkstra(G,0)\n",
    "for sommet in sorted(G.sommets()):\n",
    "    print(distances[sommet],end=\" \")\n",
    "# 0 7 8 5 7 \n"
   ]
  },
  {
   "cell_type": "markdown",
   "metadata": {},
   "source": [
    "\n",
    "## Exercice 3\n",
    "\n",
    "On considère dessous le code de l'algorithme de Floyd-Warshall pour calculer tous les plus courts chemins entre tous les couples de sommets d'un graphe orienté pondéré. On supposera que les sommets du graphe sont numérotés 0, 1, 2, ..., n-1 s'il y n sommets. Le résultat est une matrice distances (une liste de listes) telle que distances[u][v] est None s'il n'existe pas de chemin de u à v et est le coût d'un plus court chemin de u à v sinon.\n",
    "\n",
    "Modifier le code pour pouvoir retrouver les plus courts entre deux sommets lorsqu'il en existe un. Pour cela ajouter le calcul d'une matrice predecesseurs telle que predecesseurs[u][v] sera le sommet précédant v dans un plus court chemin de u à v s'il existe un chemin de u à v et si u != v. On aura predecesseurs[u][v] égal à None s'il n'existe pas de chemin de u à v ou si u = v. La fonction floyd_warshall(G) renverra le couple de matrices (distances, predecesseurs).\n",
    "\n",
    "Ajouter ensuite une fonction routage(predecesseurs, u, v) qui renvoie, à partir de la matrice predecesseurs, un plus court chemin de u à v s'il en existe un sous forme de liste. La fonction renverra None s'il n'existe pas de chemin de u à v.\n",
    "\n",
    "Sur l'exemple routage(predecesseurs, 0, 1) doit donner [0, 2, 3, 1].\n",
    "\n",
    "Un plus court chemin de 0 à 1 de coût -1 est `0 -[-2]-> 2 -[2]-> 3 -[-1]-> 1`\n"
   ]
  },
  {
   "cell_type": "code",
   "execution_count": 6,
   "metadata": {},
   "outputs": [
    {
     "name": "stdout",
     "output_type": "stream",
     "text": [
      "Graphe orienté avec 4 sommets : [0, 1, 2, 3]\n",
      "0 -[-2]-> 2\n",
      "1 -[3]-> 2\n",
      "1 -[4]-> 0\n",
      "2 -[2]-> 3\n",
      "3 -[-1]-> 1\n",
      "distances :\n",
      "0 -1 -2 0 \n",
      "4 0 2 4 \n",
      "5 1 0 2 \n",
      "3 -1 1 0 \n"
     ]
    }
   ],
   "source": [
    "from dictionnaireadjacenceorientepondere import DictionnaireAdjacenceOrientePondere\n",
    "\n",
    "# On suppose que les sommets de G sont 0, 1, ..., n-1\n",
    "def floyd_warshall(G):\n",
    "    \"\"\" Calcul des plus courts chemins entre tous les couples de sommets\n",
    "     \n",
    "    :param G: DictionnaireAdjacenceOrientePondere, un graphe orienté pondéré, \n",
    "    les sommets sont 0, 1, 2, ..., n-1\n",
    "    :return list(list): une matrice distances telle que distances[u][v] est \n",
    "    le coût d'un plus court chemin de u à v si un tel chemin existe et None sinon\n",
    "    \"\"\"\n",
    "    n = len(G.sommets())\n",
    "    distances = list()\n",
    "    for u in range(n):\n",
    "        distances.append([None for u in range(n)])\n",
    "    for u in range(n):\n",
    "        distances[u][u] = 0\n",
    "    for (u, v, p) in G.arcs():\n",
    "        distances[u][v] = p\n",
    "    # étapes k = 0, 1, ..., n-1\n",
    "    for k in range(n):\n",
    "        for u in range(n):\n",
    "            for v in range(n):\n",
    "                if distances[u][k] != None and distances[k][v] != None:\n",
    "                    new_distance = distances[u][k] + distances[k][v]\n",
    "                    if distances[u][v] == None or new_distance < distances[u][v]:\n",
    "                        distances[u][v] = new_distance\n",
    "    return distances             \n",
    "\n",
    "def print_matrice(m):\n",
    "    \"\"\" Affiche une matrice m (une liste de listes)\n",
    "     \n",
    "    :param m: list(list), une matrice m (une liste de listes)\n",
    "    :return None\n",
    "    \"\"\"\n",
    "    for i in range(len(m)):\n",
    "        for j in range(len(m[0])):\n",
    "            print(m[i][j], end=\" \")\n",
    "        print()\n",
    "        \n",
    "def routage(predecesseurs, u, v):\n",
    "    \"\"\" Calcule un plus court chemin de u à v à partir du dictionnaire predecesseurs\n",
    "     \n",
    "    :param predecesseurs: dict, un dictionnaire donnant le prédécesseur de v\n",
    "    dans un plus court chemin de u à v, None si un tel chemin n'existe pas ou si u == v\n",
    "    :return list, un plus court chemin de u à v sous forme de liste si ce chemin existe,\n",
    "    None sinon\n",
    "    \"\"\"\n",
    "    chemin = list()\n",
    "    # à compléter\n",
    "    return chemin\n",
    "\n",
    "G = DictionnaireAdjacenceOrientePondere()\n",
    "G.ajouter_sommets([0, 1, 2, 3])\n",
    "G.ajouter_arcs([(0, 2, -2), (1, 0, 4), (1, 2, 3), (2, 3, 2), (3, 1, -1)])\n",
    "print(G)  \n",
    "distances = floyd_warshall(G)\n",
    "print(\"distances :\")\n",
    "print_matrice(distances)\n",
    "# distances, predecesseurs = floyd_warshall(G)\n",
    "# print(\"predecesseurs\")\n",
    "# print_matrice(predecesseurs)\n",
    "# print(routage(predecesseurs, 0, 1))\n",
    "# [0, 2, 3, 1]\n"
   ]
  },
  {
   "cell_type": "markdown",
   "metadata": {},
   "source": [
    "## Exercice 4\n",
    "\n",
    "On souhaite implanter l'algorithme de Kosaraju. Pour calculer les composantes fortement connexes d'un graphe orienté. On rappelle les trois étapes de l'algorithme appliqué à un graphe orienté $G$ :\n",
    "1. Faire un parcours en profondeur de $G$ pour calculer un ordre *postfix* des sommets, qui est obtenu en créant la liste des sommets de $G$ obtenue en les ajoutant <font color=red>en tête de liste au moment où on termine leur traitement</font> (quand on passe leur couleur à noire). Le résultat de cette étape est la liste des sommets produite.\n",
    "2. Créer un nouveau graphe $G^t$ en inversant chaque arc de $G$ : $x\\rightarrow y$ est un arc de $G^t$ si et seulement si $y\\rightarrow x$ est un arc de $G$.\n",
    "3. Faire un parcours en profondeur de $G^t$ en utilisant l'ordre obtenu à l'étape 1 dans la boucle principale. Chaque arbre de la forêt de parcours ainsi obtenu est une composante fortement connexe de $G^t$."
   ]
  },
  {
   "cell_type": "markdown",
   "metadata": {},
   "source": [
    "**Q1.** Ecrire une fonction `ordre_postfix` qui prend en argument un `DictionnaireAdjacenceOriente` et qui renvoie la liste des sommets dans l'ordre postfix comme décrit dans l'étape 1 de l'algorithme ci-dessus. Vous pouvez réutiliser le code de l'exercice 1 en l'adaptant."
   ]
  },
  {
   "cell_type": "code",
   "execution_count": 8,
   "metadata": {},
   "outputs": [],
   "source": [
    "from dictionnaireadjacenceoriente import DictionnaireAdjacenceOriente\n",
    "\n",
    "def ordre_postfix(G):\n",
    "    ..."
   ]
  },
  {
   "cell_type": "markdown",
   "metadata": {},
   "source": [
    "**Q2.** Ecrire une fonction `transpose` qui prend en argument un `DictionnaireAdjacenceOriente` $G$ et qui renvoie un nouveau `DictionnaireAdjacenceOriente` correspondant à $G^t$."
   ]
  },
  {
   "cell_type": "code",
   "execution_count": 9,
   "metadata": {},
   "outputs": [],
   "source": [
    "def transpose(G):\n",
    "    ..."
   ]
  },
  {
   "cell_type": "markdown",
   "metadata": {},
   "source": [
    "**Q3.** Ecrire une fonction `kosaraju` qui prend en argument un `DictionnaireAdjacenceOriente` et qui calcule les composantes fortement connexes du graphe sous forme d'une liste de listes `lst`, où chaque élément de `lst` est la liste de tous les sommets d'une même composante."
   ]
  },
  {
   "cell_type": "code",
   "execution_count": 10,
   "metadata": {},
   "outputs": [],
   "source": [
    "def kosaraju(G):\n",
    "    ..."
   ]
  }
 ],
 "metadata": {
  "kernelspec": {
   "display_name": "Python 3 (ipykernel)",
   "language": "python",
   "name": "python3"
  },
  "language_info": {
   "codemirror_mode": {
    "name": "ipython",
    "version": 3
   },
   "file_extension": ".py",
   "mimetype": "text/x-python",
   "name": "python",
   "nbconvert_exporter": "python",
   "pygments_lexer": "ipython3",
   "version": "3.10.0"
  }
 },
 "nbformat": 4,
 "nbformat_minor": 4
}
